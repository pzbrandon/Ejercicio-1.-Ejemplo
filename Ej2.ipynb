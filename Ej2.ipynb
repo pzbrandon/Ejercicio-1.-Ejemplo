{
 "cells": [
  {
   "cell_type": "markdown",
   "id": "ec5825f4-1579-4498-95a2-82826438564e",
   "metadata": {},
   "source": [
    "Producto punto de R4"
   ]
  },
  {
   "cell_type": "code",
   "execution_count": 1,
   "id": "32c011b8-5b66-4ba8-bc59-9934a098f4e3",
   "metadata": {},
   "outputs": [
    {
     "name": "stdout",
     "output_type": "stream",
     "text": [
      "[3, 10, 23, 12]\n"
     ]
    }
   ],
   "source": [
    "#Defino un vector\n",
    "\n",
    "t1=3\n",
    "x1=10\n",
    "y1=23\n",
    "z1=12\n",
    "\n",
    "v1=[t1,x1,y1,z1]\n",
    "print(v1)"
   ]
  },
  {
   "cell_type": "code",
   "execution_count": 2,
   "id": "da2977ca-a33d-41f7-9cdb-1f0457fff75c",
   "metadata": {},
   "outputs": [
    {
     "name": "stdout",
     "output_type": "stream",
     "text": [
      "[13, 4, 9, 15]\n"
     ]
    }
   ],
   "source": [
    "#Defino el segundo vector\n",
    "\n",
    "t2=13\n",
    "x2=4\n",
    "y2=9\n",
    "z2=15\n",
    "\n",
    "v2=[t2,x2,y2,z2]\n",
    "print(v2)"
   ]
  },
  {
   "cell_type": "code",
   "execution_count": 6,
   "id": "4def09a8-f54c-4ecc-b580-4d688b3a14ec",
   "metadata": {},
   "outputs": [
    {
     "name": "stdout",
     "output_type": "stream",
     "text": [
      "466\n"
     ]
    }
   ],
   "source": [
    "#El producto punto de dos vectores es un número real.\n",
    "\n",
    "v1v2=t1*t2+x1*x2+y1*y2+z1*z2\n",
    "print(v1v2)"
   ]
  },
  {
   "cell_type": "markdown",
   "id": "674365d6-6030-4ab2-8f2a-6935d998de2b",
   "metadata": {},
   "source": [
    "¿Cómo hago este programa más eficiente?"
   ]
  },
  {
   "cell_type": "code",
   "execution_count": 10,
   "id": "a9ae3275-c748-40b5-b7d6-6ec8bbc57f4f",
   "metadata": {},
   "outputs": [
    {
     "data": {
      "text/plain": [
       "466"
      ]
     },
     "execution_count": 10,
     "metadata": {},
     "output_type": "execute_result"
    }
   ],
   "source": [
    "pto=0\n",
    "for i in range(len(v1)):\n",
    "    pto = pto + v1[i]*v2[i]\n",
    "pto\n",
    "#En numpy hay una función para el producto punto. \"np.dot(v1,v2)\""
   ]
  },
  {
   "cell_type": "code",
   "execution_count": null,
   "id": "a5d9ab01-3421-4f33-b3ab-a92ffd4b1b1c",
   "metadata": {},
   "outputs": [],
   "source": []
  }
 ],
 "metadata": {
  "kernelspec": {
   "display_name": "Python 3 (ipykernel)",
   "language": "python",
   "name": "python3"
  },
  "language_info": {
   "codemirror_mode": {
    "name": "ipython",
    "version": 3
   },
   "file_extension": ".py",
   "mimetype": "text/x-python",
   "name": "python",
   "nbconvert_exporter": "python",
   "pygments_lexer": "ipython3",
   "version": "3.13.1"
  }
 },
 "nbformat": 4,
 "nbformat_minor": 5
}
