{
 "cells": [
  {
   "cell_type": "code",
   "execution_count": 1,
   "id": "8dd66f37-b6f4-4471-baba-bdd393a961f7",
   "metadata": {},
   "outputs": [],
   "source": [
    "from math import sqrt"
   ]
  },
  {
   "cell_type": "code",
   "execution_count": 2,
   "id": "8f29af55-2944-41c3-9f52-2b3f2bc560a8",
   "metadata": {},
   "outputs": [],
   "source": [
    "g=9.81 #M/s\n",
    "def CaidaLibre(h):\n",
    "    t=sqrt((2*h)/g)\n",
    "    return t"
   ]
  },
  {
   "cell_type": "code",
   "execution_count": 3,
   "id": "593dd4cd-06d1-47dd-bfbf-b5a5edb2bdc9",
   "metadata": {},
   "outputs": [
    {
     "data": {
      "text/plain": [
       "4.515236409857309"
      ]
     },
     "execution_count": 3,
     "metadata": {},
     "output_type": "execute_result"
    }
   ],
   "source": [
    "CaidaLibre(100)"
   ]
  },
  {
   "cell_type": "code",
   "execution_count": null,
   "id": "a8944c22-76a3-4823-a1e6-9c2bd3b6e351",
   "metadata": {},
   "outputs": [],
   "source": []
  }
 ],
 "metadata": {
  "kernelspec": {
   "display_name": "Python 3 (ipykernel)",
   "language": "python",
   "name": "python3"
  },
  "language_info": {
   "codemirror_mode": {
    "name": "ipython",
    "version": 3
   },
   "file_extension": ".py",
   "mimetype": "text/x-python",
   "name": "python",
   "nbconvert_exporter": "python",
   "pygments_lexer": "ipython3",
   "version": "3.13.1"
  }
 },
 "nbformat": 4,
 "nbformat_minor": 5
}
